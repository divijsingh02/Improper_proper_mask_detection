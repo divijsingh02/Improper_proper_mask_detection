{
 "cells": [
  {
   "cell_type": "markdown",
   "metadata": {
    "colab_type": "text",
    "id": "3DR-eO17geWu"
   },
   "source": [
    "# Convolutional Neural Network"
   ]
  },
  {
   "cell_type": "markdown",
   "metadata": {
    "colab_type": "text",
    "id": "EMefrVPCg-60"
   },
   "source": [
    "### Importing the libraries"
   ]
  },
  {
   "cell_type": "code",
   "execution_count": 1,
   "metadata": {
    "colab": {},
    "colab_type": "code",
    "id": "sCV30xyVhFbE"
   },
   "outputs": [],
   "source": [
    "import tensorflow as tf\n",
    "from keras.preprocessing.image import ImageDataGenerator"
   ]
  },
  {
   "cell_type": "code",
   "execution_count": 2,
   "metadata": {
    "colab": {},
    "colab_type": "code",
    "id": "FIleuCAjoFD8"
   },
   "outputs": [
    {
     "data": {
      "text/plain": [
       "'2.4.1'"
      ]
     },
     "execution_count": 2,
     "metadata": {},
     "output_type": "execute_result"
    }
   ],
   "source": [
    "tf.__version__"
   ]
  },
  {
   "cell_type": "markdown",
   "metadata": {
    "colab_type": "text",
    "id": "oxQxCBWyoGPE"
   },
   "source": [
    "## Part 1 - Data Preprocessing"
   ]
  },
  {
   "cell_type": "markdown",
   "metadata": {
    "colab_type": "text",
    "id": "MvE-heJNo3GG"
   },
   "source": [
    "### Preprocessing the Training set"
   ]
  },
  {
   "cell_type": "code",
   "execution_count": 3,
   "metadata": {
    "colab": {},
    "colab_type": "code",
    "id": "0koUcJMJpEBD"
   },
   "outputs": [
    {
     "name": "stdout",
     "output_type": "stream",
     "text": [
      "Found 200 images belonging to 2 classes.\n"
     ]
    }
   ],
   "source": [
    "train_datagen = ImageDataGenerator(rescale = 1./255,\n",
    "                                   shear_range = 0.2,\n",
    "                                   zoom_range = 0.2,\n",
    "                                   horizontal_flip = True)\n",
    "training_set = train_datagen.flow_from_directory('Desktop/dataset/training_set',\n",
    "                                                 target_size = (64, 64),\n",
    "                                                 batch_size = 32,\n",
    "                                                 class_mode = 'binary')"
   ]
  },
  {
   "cell_type": "markdown",
   "metadata": {
    "colab_type": "text",
    "id": "mrCMmGw9pHys"
   },
   "source": [
    "### Preprocessing the Test set"
   ]
  },
  {
   "cell_type": "code",
   "execution_count": 4,
   "metadata": {
    "colab": {},
    "colab_type": "code",
    "id": "SH4WzfOhpKc3"
   },
   "outputs": [
    {
     "name": "stdout",
     "output_type": "stream",
     "text": [
      "Found 20 images belonging to 2 classes.\n"
     ]
    }
   ],
   "source": [
    "test_datagen = ImageDataGenerator(rescale = 1./255)\n",
    "test_set = test_datagen.flow_from_directory('Desktop/dataset/test_set',\n",
    "                                            target_size = (64, 64),\n",
    "                                            batch_size = 32,\n",
    "                                            class_mode = 'binary')"
   ]
  },
  {
   "cell_type": "markdown",
   "metadata": {
    "colab_type": "text",
    "id": "af8O4l90gk7B"
   },
   "source": [
    "## Part 2 - Building the CNN"
   ]
  },
  {
   "cell_type": "markdown",
   "metadata": {
    "colab_type": "text",
    "id": "ces1gXY2lmoX"
   },
   "source": [
    "### Initialising the CNN"
   ]
  },
  {
   "cell_type": "code",
   "execution_count": 5,
   "metadata": {
    "colab": {},
    "colab_type": "code",
    "id": "SAUt4UMPlhLS"
   },
   "outputs": [],
   "source": [
    "cnn = tf.keras.models.Sequential()"
   ]
  },
  {
   "cell_type": "markdown",
   "metadata": {
    "colab_type": "text",
    "id": "u5YJj_XMl5LF"
   },
   "source": [
    "### Step 1 - Convolution"
   ]
  },
  {
   "cell_type": "code",
   "execution_count": 6,
   "metadata": {
    "colab": {},
    "colab_type": "code",
    "id": "XPzPrMckl-hV"
   },
   "outputs": [],
   "source": [
    "cnn.add(tf.keras.layers.Conv2D(filters=32, kernel_size=3, activation='relu', input_shape=[64, 64, 3]))"
   ]
  },
  {
   "cell_type": "markdown",
   "metadata": {
    "colab_type": "text",
    "id": "tf87FpvxmNOJ"
   },
   "source": [
    "### Step 2 - Pooling"
   ]
  },
  {
   "cell_type": "code",
   "execution_count": 7,
   "metadata": {
    "colab": {},
    "colab_type": "code",
    "id": "ncpqPl69mOac"
   },
   "outputs": [],
   "source": [
    "cnn.add(tf.keras.layers.MaxPool2D(pool_size=2, strides=1))"
   ]
  },
  {
   "cell_type": "markdown",
   "metadata": {
    "colab_type": "text",
    "id": "xaTOgD8rm4mU"
   },
   "source": [
    "### Adding a second convolutional layer"
   ]
  },
  {
   "cell_type": "code",
   "execution_count": 8,
   "metadata": {
    "colab": {},
    "colab_type": "code",
    "id": "i_-FZjn_m8gk"
   },
   "outputs": [],
   "source": [
    "cnn.add(tf.keras.layers.Conv2D(filters=32, kernel_size=3, activation='relu'))\n",
    "cnn.add(tf.keras.layers.MaxPool2D(pool_size=2, strides=1))"
   ]
  },
  {
   "cell_type": "markdown",
   "metadata": {
    "colab_type": "text",
    "id": "tmiEuvTunKfk"
   },
   "source": [
    "### Step 3 - Flattening"
   ]
  },
  {
   "cell_type": "code",
   "execution_count": 9,
   "metadata": {
    "colab": {},
    "colab_type": "code",
    "id": "6AZeOGCvnNZn"
   },
   "outputs": [],
   "source": [
    "cnn.add(tf.keras.layers.Flatten())"
   ]
  },
  {
   "cell_type": "markdown",
   "metadata": {
    "colab_type": "text",
    "id": "dAoSECOm203v"
   },
   "source": [
    "### Step 4 - Full Connection"
   ]
  },
  {
   "cell_type": "code",
   "execution_count": 10,
   "metadata": {
    "colab": {},
    "colab_type": "code",
    "id": "8GtmUlLd26Nq"
   },
   "outputs": [],
   "source": [
    "\n",
    "cnn.add(tf.keras.layers.Dense(units=256, activation='relu'))"
   ]
  },
  {
   "cell_type": "markdown",
   "metadata": {
    "colab_type": "text",
    "id": "yTldFvbX28Na"
   },
   "source": [
    "### Step 5 - Output Layer"
   ]
  },
  {
   "cell_type": "code",
   "execution_count": 11,
   "metadata": {
    "colab": {},
    "colab_type": "code",
    "id": "1p_Zj1Mc3Ko_"
   },
   "outputs": [],
   "source": [
    "cnn.add(tf.keras.layers.Dense(units=1, activation='sigmoid'))"
   ]
  },
  {
   "cell_type": "markdown",
   "metadata": {
    "colab_type": "text",
    "id": "D6XkI90snSDl"
   },
   "source": [
    "## Part 3 - Training the CNN"
   ]
  },
  {
   "cell_type": "markdown",
   "metadata": {
    "colab_type": "text",
    "id": "vfrFQACEnc6i"
   },
   "source": [
    "### Compiling the CNN"
   ]
  },
  {
   "cell_type": "code",
   "execution_count": 12,
   "metadata": {
    "colab": {},
    "colab_type": "code",
    "id": "NALksrNQpUlJ"
   },
   "outputs": [],
   "source": [
    "cnn.compile(optimizer = 'adam', loss = 'binary_crossentropy', metrics = ['accuracy'])"
   ]
  },
  {
   "cell_type": "markdown",
   "metadata": {
    "colab_type": "text",
    "id": "ehS-v3MIpX2h"
   },
   "source": [
    "### Training the CNN on the Training set and evaluating it on the Test set"
   ]
  },
  {
   "cell_type": "code",
   "execution_count": 13,
   "metadata": {
    "colab": {},
    "colab_type": "code",
    "id": "XUj1W4PJptta"
   },
   "outputs": [
    {
     "name": "stdout",
     "output_type": "stream",
     "text": [
      "Epoch 1/20\n",
      "7/7 [==============================] - 4s 525ms/step - loss: 8.4420 - accuracy: 0.4749 - val_loss: 4.2753 - val_accuracy: 0.5000\n",
      "Epoch 2/20\n",
      "7/7 [==============================] - 3s 422ms/step - loss: 1.8809 - accuracy: 0.5774 - val_loss: 0.9315 - val_accuracy: 0.5000\n",
      "Epoch 3/20\n",
      "7/7 [==============================] - 3s 435ms/step - loss: 0.7154 - accuracy: 0.5741 - val_loss: 0.6887 - val_accuracy: 0.6000\n",
      "Epoch 4/20\n",
      "7/7 [==============================] - 3s 438ms/step - loss: 0.6216 - accuracy: 0.6426 - val_loss: 0.7217 - val_accuracy: 0.5000\n",
      "Epoch 5/20\n",
      "7/7 [==============================] - 3s 425ms/step - loss: 0.6446 - accuracy: 0.6451 - val_loss: 0.7073 - val_accuracy: 0.5000\n",
      "Epoch 6/20\n",
      "7/7 [==============================] - 3s 456ms/step - loss: 0.6274 - accuracy: 0.7032 - val_loss: 0.6885 - val_accuracy: 0.5500\n",
      "Epoch 7/20\n",
      "7/7 [==============================] - 3s 484ms/step - loss: 0.6247 - accuracy: 0.6327 - val_loss: 0.7316 - val_accuracy: 0.6000\n",
      "Epoch 8/20\n",
      "7/7 [==============================] - 3s 499ms/step - loss: 0.5919 - accuracy: 0.6618 - val_loss: 0.7358 - val_accuracy: 0.5000\n",
      "Epoch 9/20\n",
      "7/7 [==============================] - 3s 451ms/step - loss: 0.5974 - accuracy: 0.6847 - val_loss: 0.8226 - val_accuracy: 0.4500\n",
      "Epoch 10/20\n",
      "7/7 [==============================] - 3s 441ms/step - loss: 0.5736 - accuracy: 0.6640 - val_loss: 0.8479 - val_accuracy: 0.4500\n",
      "Epoch 11/20\n",
      "7/7 [==============================] - 3s 418ms/step - loss: 0.4920 - accuracy: 0.7505 - val_loss: 1.0053 - val_accuracy: 0.4000\n",
      "Epoch 12/20\n",
      "7/7 [==============================] - 3s 475ms/step - loss: 0.4869 - accuracy: 0.7785 - val_loss: 1.0566 - val_accuracy: 0.4000\n",
      "Epoch 13/20\n",
      "7/7 [==============================] - 4s 531ms/step - loss: 0.4808 - accuracy: 0.7986 - val_loss: 0.9496 - val_accuracy: 0.4000\n",
      "Epoch 14/20\n",
      "7/7 [==============================] - 4s 524ms/step - loss: 0.5297 - accuracy: 0.7125 - val_loss: 1.1833 - val_accuracy: 0.4000\n",
      "Epoch 15/20\n",
      "7/7 [==============================] - 4s 528ms/step - loss: 0.4985 - accuracy: 0.7209 - val_loss: 1.3875 - val_accuracy: 0.4500\n",
      "Epoch 16/20\n",
      "7/7 [==============================] - 3s 491ms/step - loss: 0.4368 - accuracy: 0.7423 - val_loss: 1.6366 - val_accuracy: 0.3500\n",
      "Epoch 17/20\n",
      "7/7 [==============================] - 3s 446ms/step - loss: 0.3966 - accuracy: 0.8110 - val_loss: 1.4100 - val_accuracy: 0.4500\n",
      "Epoch 18/20\n",
      "7/7 [==============================] - 3s 449ms/step - loss: 0.4307 - accuracy: 0.8135 - val_loss: 1.2020 - val_accuracy: 0.5000\n",
      "Epoch 19/20\n",
      "7/7 [==============================] - 3s 457ms/step - loss: 0.3567 - accuracy: 0.8361 - val_loss: 1.5695 - val_accuracy: 0.4500\n",
      "Epoch 20/20\n",
      "7/7 [==============================] - 3s 447ms/step - loss: 0.3753 - accuracy: 0.7833 - val_loss: 1.9418 - val_accuracy: 0.4500\n"
     ]
    },
    {
     "data": {
      "text/plain": [
       "<tensorflow.python.keras.callbacks.History at 0x2146a7acf10>"
      ]
     },
     "execution_count": 13,
     "metadata": {},
     "output_type": "execute_result"
    }
   ],
   "source": [
    "cnn.fit(x = training_set, validation_data = test_set, epochs = 20)"
   ]
  },
  {
   "cell_type": "markdown",
   "metadata": {
    "colab_type": "text",
    "id": "U3PZasO0006Z"
   },
   "source": [
    "## Part 4 - Making Multiple predictions . 5 out 6 test cases were predicted successfully"
   ]
  },
  {
   "cell_type": "code",
   "execution_count": 20,
   "metadata": {
    "colab": {},
    "colab_type": "code",
    "id": "gsSiWEJY1BPB"
   },
   "outputs": [
    {
     "name": "stdout",
     "output_type": "stream",
     "text": [
      "imp -\n",
      "improper\n",
      "imp -\n",
      "proper\n",
      "imp -\n",
      "improper\n",
      "proper- \n",
      "proper\n",
      "proper-\n",
      "proper\n",
      "proper-\n",
      "proper\n"
     ]
    }
   ],
   "source": [
    "import numpy as np\n",
    "from keras.preprocessing import image\n",
    "test_image = image.load_img('Desktop/dataset/single_prediction/imp_1.jpg', target_size = (64, 64))\n",
    "test_image = image.img_to_array(test_image)\n",
    "test_image = np.expand_dims(test_image, axis = 0)\n",
    "result = cnn.predict(test_image)\n",
    "training_set.class_indices\n",
    "print(\"imp -\")\n",
    "if result[0][0] == 1:\n",
    "    prediction = 'proper'\n",
    "else:\n",
    "    prediction = 'improper'\n",
    "print(prediction)\n",
    "\n",
    "test_image = image.load_img('Desktop/dataset/single_prediction/imp_2.jpg', target_size = (64, 64))\n",
    "test_image = image.img_to_array(test_image)\n",
    "test_image = np.expand_dims(test_image, axis = 0)\n",
    "result = cnn.predict(test_image)\n",
    "training_set.class_indices\n",
    "print(\"imp -\")\n",
    "\n",
    "if result[0][0] == 1:\n",
    "    prediction = 'proper'\n",
    "else:\n",
    "    prediction = 'improper'\n",
    "print(prediction)\n",
    "\n",
    "\n",
    "test_image = image.load_img('Desktop/dataset/single_prediction/imp_3.jpg', target_size = (64, 64))\n",
    "test_image = image.img_to_array(test_image)\n",
    "test_image = np.expand_dims(test_image, axis = 0)\n",
    "result = cnn.predict(test_image)\n",
    "training_set.class_indices\n",
    "print(\"imp -\")\n",
    "\n",
    "\n",
    "if result[0][0] == 1:\n",
    "    prediction = 'proper'\n",
    "else:\n",
    "    prediction = 'improper'\n",
    "print(prediction)\n",
    "\n",
    "test_image = image.load_img('Desktop/dataset/single_prediction/prop_1.jpg', target_size = (64, 64))\n",
    "test_image = image.img_to_array(test_image)\n",
    "test_image = np.expand_dims(test_image, axis = 0)\n",
    "result = cnn.predict(test_image)\n",
    "training_set.class_indices\n",
    "print(\"proper- \")\n",
    "\n",
    "if result[0][0] == 1:\n",
    "    prediction = 'proper'\n",
    "else:\n",
    "    prediction = 'improper'\n",
    "print(prediction)\n",
    "\n",
    "test_image = image.load_img('Desktop/dataset/single_prediction/prop_2.jpg', target_size = (64, 64))\n",
    "test_image = image.img_to_array(test_image)\n",
    "test_image = np.expand_dims(test_image, axis = 0)\n",
    "result = cnn.predict(test_image)\n",
    "training_set.class_indices\n",
    "print(\"proper-\")\n",
    "\n",
    "\n",
    "if result[0][0] == 1:\n",
    "    prediction = 'proper'\n",
    "else:\n",
    "    prediction = 'improper'\n",
    "print(prediction)\n",
    "\n",
    "test_image = image.load_img('Desktop/dataset/single_prediction/prop_3.jpg', target_size = (64, 64))\n",
    "test_image = image.img_to_array(test_image)\n",
    "test_image = np.expand_dims(test_image, axis = 0)\n",
    "result = cnn.predict(test_image)\n",
    "training_set.class_indices\n",
    "print(\"proper-\")\n",
    "if result[0][0] == 1:\n",
    "    prediction = 'proper'\n",
    "else:\n",
    "    prediction = 'improper'\n",
    "print(prediction)"
   ]
  },
  {
   "cell_type": "code",
   "execution_count": null,
   "metadata": {
    "colab": {},
    "colab_type": "code",
    "id": "ED9KB3I54c1i"
   },
   "outputs": [],
   "source": []
  },
  {
   "cell_type": "code",
   "execution_count": null,
   "metadata": {},
   "outputs": [],
   "source": []
  }
 ],
 "metadata": {
  "colab": {
   "collapsed_sections": [],
   "name": "convolutional_neural_network.ipynb",
   "provenance": [],
   "toc_visible": true
  },
  "kernelspec": {
   "display_name": "Python 3",
   "language": "python",
   "name": "python3"
  },
  "language_info": {
   "codemirror_mode": {
    "name": "ipython",
    "version": 3
   },
   "file_extension": ".py",
   "mimetype": "text/x-python",
   "name": "python",
   "nbconvert_exporter": "python",
   "pygments_lexer": "ipython3",
   "version": "3.8.3"
  }
 },
 "nbformat": 4,
 "nbformat_minor": 1
}
